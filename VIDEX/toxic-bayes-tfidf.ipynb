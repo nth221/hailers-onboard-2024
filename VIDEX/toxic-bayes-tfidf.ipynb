{
 "cells": [
  {
   "cell_type": "code",
   "execution_count": 1,
   "id": "7ee1c48f",
   "metadata": {
    "_cell_guid": "b1076dfc-b9ad-4769-8c92-a6c4dae69d19",
    "_uuid": "8f2839f25d086af736a60e9eeb907d3b93b6e0e5",
    "execution": {
     "iopub.execute_input": "2024-07-19T01:32:23.060824Z",
     "iopub.status.busy": "2024-07-19T01:32:23.060424Z",
     "iopub.status.idle": "2024-07-19T01:32:23.944520Z",
     "shell.execute_reply": "2024-07-19T01:32:23.943189Z"
    },
    "papermill": {
     "duration": 0.89427,
     "end_time": "2024-07-19T01:32:23.948130",
     "exception": false,
     "start_time": "2024-07-19T01:32:23.053860",
     "status": "completed"
    },
    "tags": []
   },
   "outputs": [
    {
     "name": "stdout",
     "output_type": "stream",
     "text": [
      "/kaggle/input/jigsaw-toxic-comment-classification-challenge/train.csv.zip\n",
      "/kaggle/input/jigsaw-toxic-comment-classification-challenge/sample_submission.csv.zip\n",
      "/kaggle/input/jigsaw-toxic-comment-classification-challenge/test_labels.csv.zip\n",
      "/kaggle/input/jigsaw-toxic-comment-classification-challenge/test.csv.zip\n"
     ]
    }
   ],
   "source": [
    "# This Python 3 environment comes with many helpful analytics libraries installed\n",
    "# It is defined by the kaggle/python Docker image: https://github.com/kaggle/docker-python\n",
    "# For example, here's several helpful packages to load\n",
    "\n",
    "import numpy as np # linear algebra\n",
    "import pandas as pd # data processing, CSV file I/O (e.g. pd.read_csv)\n",
    "\n",
    "# Input data files are available in the read-only \"../input/\" directory\n",
    "# For example, running this (by clicking run or pressing Shift+Enter) will list all files under the input directory\n",
    "\n",
    "import os\n",
    "for dirname, _, filenames in os.walk('/kaggle/input'):\n",
    "    for filename in filenames:\n",
    "        print(os.path.join(dirname, filename))\n",
    "\n",
    "# You can write up to 20GB to the current directory (/kaggle/working/) that gets preserved as output when you create a version using \"Save & Run All\" \n",
    "# You can also write temporary files to /kaggle/temp/, but they won't be saved outside of the current session"
   ]
  },
  {
   "cell_type": "code",
   "execution_count": 2,
   "id": "0ab4e152",
   "metadata": {
    "execution": {
     "iopub.execute_input": "2024-07-19T01:32:23.961315Z",
     "iopub.status.busy": "2024-07-19T01:32:23.960785Z",
     "iopub.status.idle": "2024-07-19T01:32:27.897947Z",
     "shell.execute_reply": "2024-07-19T01:32:27.896774Z"
    },
    "papermill": {
     "duration": 3.946395,
     "end_time": "2024-07-19T01:32:27.900668",
     "exception": false,
     "start_time": "2024-07-19T01:32:23.954273",
     "status": "completed"
    },
    "tags": []
   },
   "outputs": [],
   "source": [
    "train = pd.read_csv('/kaggle/input/jigsaw-toxic-comment-classification-challenge/train.csv.zip')\n",
    "test = pd.read_csv('/kaggle/input/jigsaw-toxic-comment-classification-challenge/test.csv.zip')"
   ]
  },
  {
   "cell_type": "code",
   "execution_count": 3,
   "id": "add774e7",
   "metadata": {
    "execution": {
     "iopub.execute_input": "2024-07-19T01:32:27.912042Z",
     "iopub.status.busy": "2024-07-19T01:32:27.911311Z",
     "iopub.status.idle": "2024-07-19T01:32:29.897604Z",
     "shell.execute_reply": "2024-07-19T01:32:29.896352Z"
    },
    "papermill": {
     "duration": 1.994809,
     "end_time": "2024-07-19T01:32:29.900261",
     "exception": false,
     "start_time": "2024-07-19T01:32:27.905452",
     "status": "completed"
    },
    "tags": []
   },
   "outputs": [],
   "source": [
    "import string, re\n",
    "from nltk.corpus import stopwords\n",
    "from nltk.stem import WordNetLemmatizer\n",
    "from nltk import TweetTokenizer\n",
    "\n",
    "from sklearn.feature_extraction.text import TfidfVectorizer\n",
    "from scipy.sparse import hstack\n",
    "\n",
    "from sklearn.linear_model import LogisticRegression\n",
    "from sklearn.metrics import accuracy_score"
   ]
  },
  {
   "cell_type": "code",
   "execution_count": 4,
   "id": "da589c02",
   "metadata": {
    "execution": {
     "iopub.execute_input": "2024-07-19T01:32:29.911071Z",
     "iopub.status.busy": "2024-07-19T01:32:29.910660Z",
     "iopub.status.idle": "2024-07-19T01:32:31.362113Z",
     "shell.execute_reply": "2024-07-19T01:32:31.360645Z"
    },
    "papermill": {
     "duration": 1.459735,
     "end_time": "2024-07-19T01:32:31.364742",
     "exception": false,
     "start_time": "2024-07-19T01:32:29.905007",
     "status": "completed"
    },
    "tags": []
   },
   "outputs": [
    {
     "name": "stdout",
     "output_type": "stream",
     "text": [
      "Archive:  /usr/share/nltk_data/corpora/wordnet.zip\r\n",
      "   creating: /usr/share/nltk_data/corpora/wordnet/\r\n",
      "  inflating: /usr/share/nltk_data/corpora/wordnet/lexnames  \r\n",
      "  inflating: /usr/share/nltk_data/corpora/wordnet/data.verb  \r\n",
      "  inflating: /usr/share/nltk_data/corpora/wordnet/index.adv  \r\n",
      "  inflating: /usr/share/nltk_data/corpora/wordnet/adv.exc  \r\n",
      "  inflating: /usr/share/nltk_data/corpora/wordnet/index.verb  \r\n",
      "  inflating: /usr/share/nltk_data/corpora/wordnet/cntlist.rev  \r\n",
      "  inflating: /usr/share/nltk_data/corpora/wordnet/data.adj  \r\n",
      "  inflating: /usr/share/nltk_data/corpora/wordnet/index.adj  \r\n",
      "  inflating: /usr/share/nltk_data/corpora/wordnet/LICENSE  \r\n",
      "  inflating: /usr/share/nltk_data/corpora/wordnet/citation.bib  \r\n",
      "  inflating: /usr/share/nltk_data/corpora/wordnet/noun.exc  \r\n",
      "  inflating: /usr/share/nltk_data/corpora/wordnet/verb.exc  \r\n",
      "  inflating: /usr/share/nltk_data/corpora/wordnet/README  \r\n",
      "  inflating: /usr/share/nltk_data/corpora/wordnet/index.sense  \r\n",
      "  inflating: /usr/share/nltk_data/corpora/wordnet/data.noun  \r\n",
      "  inflating: /usr/share/nltk_data/corpora/wordnet/data.adv  \r\n",
      "  inflating: /usr/share/nltk_data/corpora/wordnet/index.noun  \r\n",
      "  inflating: /usr/share/nltk_data/corpora/wordnet/adj.exc  \r\n"
     ]
    }
   ],
   "source": [
    "!unzip /usr/share/nltk_data/corpora/wordnet.zip -d /usr/share/nltk_data/corpora/"
   ]
  },
  {
   "cell_type": "code",
   "execution_count": 5,
   "id": "890739a4",
   "metadata": {
    "execution": {
     "iopub.execute_input": "2024-07-19T01:32:31.378130Z",
     "iopub.status.busy": "2024-07-19T01:32:31.376793Z",
     "iopub.status.idle": "2024-07-19T01:32:31.391257Z",
     "shell.execute_reply": "2024-07-19T01:32:31.390111Z"
    },
    "papermill": {
     "duration": 0.023903,
     "end_time": "2024-07-19T01:32:31.393720",
     "exception": false,
     "start_time": "2024-07-19T01:32:31.369817",
     "status": "completed"
    },
    "tags": []
   },
   "outputs": [],
   "source": [
    "punctuation = string.punctuation\n",
    "stop_word = set(stopwords.words('english'))\n",
    "tokenizer = TweetTokenizer()\n",
    "lemmatizer = WordNetLemmatizer()\n",
    "\n",
    "def preprocess(data):\n",
    "    data = data.lower()\n",
    "    data = re.sub(r'http\\S+|www\\S+|https\\S+', '', data, flags=re.MULTILINE)\n",
    "    data = re.sub(r'\\@\\w+|\\#','', data)\n",
    "    data = re.sub('[^a-zA-Z]', ' ', data)\n",
    "    \n",
    "    data = tokenizer.tokenize(data)\n",
    "    \n",
    "    data = [lemmatizer.lemmatize(word, \"v\") for word in data if word not in stop_word and word not in punctuation]\n",
    "    data = [lemmatizer.lemmatize(word, \"n\") for word in data if word not in stop_word and word not in punctuation]\n",
    "    data = [lemmatizer.lemmatize(word, \"a\") for word in data if word not in stop_word and word not in punctuation]\n",
    "    return data"
   ]
  },
  {
   "cell_type": "code",
   "execution_count": 6,
   "id": "dc59ce59",
   "metadata": {
    "execution": {
     "iopub.execute_input": "2024-07-19T01:32:31.405636Z",
     "iopub.status.busy": "2024-07-19T01:32:31.404707Z",
     "iopub.status.idle": "2024-07-19T01:32:31.426223Z",
     "shell.execute_reply": "2024-07-19T01:32:31.424944Z"
    },
    "papermill": {
     "duration": 0.030116,
     "end_time": "2024-07-19T01:32:31.428808",
     "exception": false,
     "start_time": "2024-07-19T01:32:31.398692",
     "status": "completed"
    },
    "tags": []
   },
   "outputs": [
    {
     "name": "stdout",
     "output_type": "stream",
     "text": [
      "Index(['toxic', 'severe_toxic', 'obscene', 'threat', 'insult',\n",
      "       'identity_hate'],\n",
      "      dtype='object')\n"
     ]
    }
   ],
   "source": [
    "labels = train.columns[2:]\n",
    "print(labels)\n",
    "\n",
    "train_class = train[labels]"
   ]
  },
  {
   "cell_type": "code",
   "execution_count": 7,
   "id": "a72bc9c1",
   "metadata": {
    "execution": {
     "iopub.execute_input": "2024-07-19T01:32:31.440466Z",
     "iopub.status.busy": "2024-07-19T01:32:31.440101Z",
     "iopub.status.idle": "2024-07-19T01:32:31.514509Z",
     "shell.execute_reply": "2024-07-19T01:32:31.513341Z"
    },
    "papermill": {
     "duration": 0.083117,
     "end_time": "2024-07-19T01:32:31.516899",
     "exception": false,
     "start_time": "2024-07-19T01:32:31.433782",
     "status": "completed"
    },
    "tags": []
   },
   "outputs": [],
   "source": [
    "word_vectorizer = TfidfVectorizer(\n",
    "        ngram_range =(1, 2),\n",
    "        min_df=3,\n",
    "        max_df=0.9,\n",
    "        tokenizer=preprocess,\n",
    "#         token_pattern=r\"([a-zA-Z]{1,})\"\n",
    "        stop_words=\"english\",\n",
    "        analyzer=\"word\"\n",
    ")\n",
    "char_vectorizer = TfidfVectorizer(ngram_range =(2, 5), max_features=50000, analyzer=\"char\")\n",
    "\n",
    "train_text = train[\"comment_text\"]\n",
    "test_text = test[\"comment_text\"]\n",
    "all_text = pd.concat([train_text, test_text])"
   ]
  },
  {
   "cell_type": "code",
   "execution_count": 8,
   "id": "982e5757",
   "metadata": {
    "execution": {
     "iopub.execute_input": "2024-07-19T01:32:31.528910Z",
     "iopub.status.busy": "2024-07-19T01:32:31.528509Z",
     "iopub.status.idle": "2024-07-19T01:40:28.790484Z",
     "shell.execute_reply": "2024-07-19T01:40:28.789258Z"
    },
    "papermill": {
     "duration": 477.271209,
     "end_time": "2024-07-19T01:40:28.793439",
     "exception": false,
     "start_time": "2024-07-19T01:32:31.522230",
     "status": "completed"
    },
    "tags": []
   },
   "outputs": [
    {
     "name": "stderr",
     "output_type": "stream",
     "text": [
      "/opt/conda/lib/python3.10/site-packages/sklearn/feature_extraction/text.py:528: UserWarning: The parameter 'token_pattern' will not be used since 'tokenizer' is not None'\n",
      "  warnings.warn(\n",
      "/opt/conda/lib/python3.10/site-packages/sklearn/feature_extraction/text.py:409: UserWarning: Your stop_words may be inconsistent with your preprocessing. Tokenizing the stop words generated tokens ['le', 'make', 'u'] not in stop_words.\n",
      "  warnings.warn(\n"
     ]
    }
   ],
   "source": [
    "word_vectorizer.fit(all_text)\n",
    "train_word_vector = word_vectorizer.transform(train_text)\n",
    "test_word_vector = word_vectorizer.transform(test_text)"
   ]
  },
  {
   "cell_type": "code",
   "execution_count": 9,
   "id": "11eea034",
   "metadata": {
    "execution": {
     "iopub.execute_input": "2024-07-19T01:40:28.806045Z",
     "iopub.status.busy": "2024-07-19T01:40:28.805632Z",
     "iopub.status.idle": "2024-07-19T01:54:54.202607Z",
     "shell.execute_reply": "2024-07-19T01:54:54.200738Z"
    },
    "papermill": {
     "duration": 865.40929,
     "end_time": "2024-07-19T01:54:54.208349",
     "exception": false,
     "start_time": "2024-07-19T01:40:28.799059",
     "status": "completed"
    },
    "tags": []
   },
   "outputs": [],
   "source": [
    "char_vectorizer.fit(all_text)\n",
    "train_char_vector = char_vectorizer.transform(train_text)\n",
    "test_char_vector = char_vectorizer.transform(test_text)"
   ]
  },
  {
   "cell_type": "code",
   "execution_count": 10,
   "id": "1cc8a200",
   "metadata": {
    "execution": {
     "iopub.execute_input": "2024-07-19T01:54:54.224213Z",
     "iopub.status.busy": "2024-07-19T01:54:54.223760Z",
     "iopub.status.idle": "2024-07-19T01:54:58.439101Z",
     "shell.execute_reply": "2024-07-19T01:54:58.437930Z"
    },
    "papermill": {
     "duration": 4.225802,
     "end_time": "2024-07-19T01:54:58.441981",
     "exception": false,
     "start_time": "2024-07-19T01:54:54.216179",
     "status": "completed"
    },
    "tags": []
   },
   "outputs": [],
   "source": [
    "train_vector = hstack([train_word_vector, train_char_vector])\n",
    "test_vector = hstack([test_word_vector, test_char_vector])"
   ]
  },
  {
   "cell_type": "code",
   "execution_count": 11,
   "id": "a47dca35",
   "metadata": {
    "execution": {
     "iopub.execute_input": "2024-07-19T01:54:58.455245Z",
     "iopub.status.busy": "2024-07-19T01:54:58.454391Z",
     "iopub.status.idle": "2024-07-19T01:54:58.462042Z",
     "shell.execute_reply": "2024-07-19T01:54:58.460898Z"
    },
    "papermill": {
     "duration": 0.01737,
     "end_time": "2024-07-19T01:54:58.465379",
     "exception": false,
     "start_time": "2024-07-19T01:54:58.448009",
     "status": "completed"
    },
    "tags": []
   },
   "outputs": [
    {
     "name": "stdout",
     "output_type": "stream",
     "text": [
      "(159571, 520760)\n",
      "(159571,)\n"
     ]
    }
   ],
   "source": [
    "print(train_vector.shape)\n",
    "print(train_class[\"toxic\"].shape)"
   ]
  },
  {
   "cell_type": "code",
   "execution_count": 12,
   "id": "4edf1a39",
   "metadata": {
    "execution": {
     "iopub.execute_input": "2024-07-19T01:54:58.477543Z",
     "iopub.status.busy": "2024-07-19T01:54:58.477126Z",
     "iopub.status.idle": "2024-07-19T01:54:58.482953Z",
     "shell.execute_reply": "2024-07-19T01:54:58.481815Z"
    },
    "papermill": {
     "duration": 0.014731,
     "end_time": "2024-07-19T01:54:58.485263",
     "exception": false,
     "start_time": "2024-07-19T01:54:58.470532",
     "status": "completed"
    },
    "tags": []
   },
   "outputs": [],
   "source": [
    "def probability(train_vector, y_i, y):\n",
    "    prob = train_vector[y == y_i].sum(axis=0)\n",
    "    # laplace smoothing\n",
    "    return (prob + 1) / ((y == y_i).sum() + 1)"
   ]
  },
  {
   "cell_type": "code",
   "execution_count": 13,
   "id": "ef154386",
   "metadata": {
    "execution": {
     "iopub.execute_input": "2024-07-19T01:54:58.497341Z",
     "iopub.status.busy": "2024-07-19T01:54:58.496952Z",
     "iopub.status.idle": "2024-07-19T01:54:58.502941Z",
     "shell.execute_reply": "2024-07-19T01:54:58.501653Z"
    },
    "papermill": {
     "duration": 0.014595,
     "end_time": "2024-07-19T01:54:58.505073",
     "exception": false,
     "start_time": "2024-07-19T01:54:58.490478",
     "status": "completed"
    },
    "tags": []
   },
   "outputs": [],
   "source": [
    "def NaiveBayes(train_vector, y):\n",
    "    log_prob = np.log(probability(train_vector, 1, y) / probability(train_vector, 0, y))\n",
    "    nb = train_vector.multiply(log_prob)\n",
    "    return nb, log_prob"
   ]
  },
  {
   "cell_type": "code",
   "execution_count": 14,
   "id": "5e1ac3c3",
   "metadata": {
    "execution": {
     "iopub.execute_input": "2024-07-19T01:54:58.517444Z",
     "iopub.status.busy": "2024-07-19T01:54:58.517024Z",
     "iopub.status.idle": "2024-07-19T01:54:58.522173Z",
     "shell.execute_reply": "2024-07-19T01:54:58.521132Z"
    },
    "papermill": {
     "duration": 0.014136,
     "end_time": "2024-07-19T01:54:58.524516",
     "exception": false,
     "start_time": "2024-07-19T01:54:58.510380",
     "status": "completed"
    },
    "tags": []
   },
   "outputs": [],
   "source": [
    "model = LogisticRegression(C=0.1, max_iter=2000)"
   ]
  },
  {
   "cell_type": "code",
   "execution_count": 15,
   "id": "d9d69cab",
   "metadata": {
    "execution": {
     "iopub.execute_input": "2024-07-19T01:54:58.536814Z",
     "iopub.status.busy": "2024-07-19T01:54:58.536436Z",
     "iopub.status.idle": "2024-07-19T02:05:41.620683Z",
     "shell.execute_reply": "2024-07-19T02:05:41.619121Z"
    },
    "papermill": {
     "duration": 643.093949,
     "end_time": "2024-07-19T02:05:41.623799",
     "exception": false,
     "start_time": "2024-07-19T01:54:58.529850",
     "status": "completed"
    },
    "tags": []
   },
   "outputs": [
    {
     "name": "stdout",
     "output_type": "stream",
     "text": [
      "Training accuracy for toxic is 0.9620106410312651\n",
      "Training accuracy for severe_toxic is 0.9923733009130732\n",
      "Training accuracy for obscene is 0.981262259433105\n",
      "Training accuracy for threat is 0.9976875497427478\n",
      "Training accuracy for insult is 0.9750518577937094\n",
      "Training accuracy for identity_hate is 0.9935577266545926\n"
     ]
    }
   ],
   "source": [
    "submission = pd.read_csv('../input/jigsaw-toxic-comment-classification-challenge/sample_submission.csv.zip')\n",
    "\n",
    "for label in labels:\n",
    "    y = train_class[label].values\n",
    "    nb, log_prob = NaiveBayes(train_vector, y)\n",
    "    \n",
    "    model.fit(nb, y)\n",
    "    \n",
    "    y_pred = model.predict(train_vector.multiply(log_prob))\n",
    "    print('Training accuracy for {} is {}'.format(label, accuracy_score(y, y_pred)))\n",
    "    \n",
    "    test_y_prob = model.predict_proba(test_vector.multiply(log_prob))[:, 1]\n",
    "    submission[label] = test_y_prob"
   ]
  },
  {
   "cell_type": "code",
   "execution_count": 16,
   "id": "6e242a17",
   "metadata": {
    "execution": {
     "iopub.execute_input": "2024-07-19T02:05:41.637356Z",
     "iopub.status.busy": "2024-07-19T02:05:41.636953Z",
     "iopub.status.idle": "2024-07-19T02:05:41.658899Z",
     "shell.execute_reply": "2024-07-19T02:05:41.657657Z"
    },
    "papermill": {
     "duration": 0.031664,
     "end_time": "2024-07-19T02:05:41.661258",
     "exception": false,
     "start_time": "2024-07-19T02:05:41.629594",
     "status": "completed"
    },
    "tags": []
   },
   "outputs": [
    {
     "data": {
      "text/html": [
       "<div>\n",
       "<style scoped>\n",
       "    .dataframe tbody tr th:only-of-type {\n",
       "        vertical-align: middle;\n",
       "    }\n",
       "\n",
       "    .dataframe tbody tr th {\n",
       "        vertical-align: top;\n",
       "    }\n",
       "\n",
       "    .dataframe thead th {\n",
       "        text-align: right;\n",
       "    }\n",
       "</style>\n",
       "<table border=\"1\" class=\"dataframe\">\n",
       "  <thead>\n",
       "    <tr style=\"text-align: right;\">\n",
       "      <th></th>\n",
       "      <th>id</th>\n",
       "      <th>toxic</th>\n",
       "      <th>severe_toxic</th>\n",
       "      <th>obscene</th>\n",
       "      <th>threat</th>\n",
       "      <th>insult</th>\n",
       "      <th>identity_hate</th>\n",
       "    </tr>\n",
       "  </thead>\n",
       "  <tbody>\n",
       "    <tr>\n",
       "      <th>0</th>\n",
       "      <td>00001cee341fdb12</td>\n",
       "      <td>0.999439</td>\n",
       "      <td>0.128199</td>\n",
       "      <td>0.999150</td>\n",
       "      <td>0.010256</td>\n",
       "      <td>0.969730</td>\n",
       "      <td>0.118215</td>\n",
       "    </tr>\n",
       "    <tr>\n",
       "      <th>1</th>\n",
       "      <td>0000247867823ef7</td>\n",
       "      <td>0.025719</td>\n",
       "      <td>0.003005</td>\n",
       "      <td>0.010681</td>\n",
       "      <td>0.001024</td>\n",
       "      <td>0.012646</td>\n",
       "      <td>0.003113</td>\n",
       "    </tr>\n",
       "    <tr>\n",
       "      <th>2</th>\n",
       "      <td>00013b17ad220c46</td>\n",
       "      <td>0.026739</td>\n",
       "      <td>0.003238</td>\n",
       "      <td>0.010651</td>\n",
       "      <td>0.001034</td>\n",
       "      <td>0.010653</td>\n",
       "      <td>0.002692</td>\n",
       "    </tr>\n",
       "    <tr>\n",
       "      <th>3</th>\n",
       "      <td>00017563c3f7919a</td>\n",
       "      <td>0.007810</td>\n",
       "      <td>0.001782</td>\n",
       "      <td>0.005738</td>\n",
       "      <td>0.001415</td>\n",
       "      <td>0.006651</td>\n",
       "      <td>0.001993</td>\n",
       "    </tr>\n",
       "    <tr>\n",
       "      <th>4</th>\n",
       "      <td>00017695ad8997eb</td>\n",
       "      <td>0.032932</td>\n",
       "      <td>0.002264</td>\n",
       "      <td>0.010005</td>\n",
       "      <td>0.000965</td>\n",
       "      <td>0.011337</td>\n",
       "      <td>0.002083</td>\n",
       "    </tr>\n",
       "  </tbody>\n",
       "</table>\n",
       "</div>"
      ],
      "text/plain": [
       "                 id     toxic  severe_toxic   obscene    threat    insult  \\\n",
       "0  00001cee341fdb12  0.999439      0.128199  0.999150  0.010256  0.969730   \n",
       "1  0000247867823ef7  0.025719      0.003005  0.010681  0.001024  0.012646   \n",
       "2  00013b17ad220c46  0.026739      0.003238  0.010651  0.001034  0.010653   \n",
       "3  00017563c3f7919a  0.007810      0.001782  0.005738  0.001415  0.006651   \n",
       "4  00017695ad8997eb  0.032932      0.002264  0.010005  0.000965  0.011337   \n",
       "\n",
       "   identity_hate  \n",
       "0       0.118215  \n",
       "1       0.003113  \n",
       "2       0.002692  \n",
       "3       0.001993  \n",
       "4       0.002083  "
      ]
     },
     "execution_count": 16,
     "metadata": {},
     "output_type": "execute_result"
    }
   ],
   "source": [
    "submission.head()"
   ]
  },
  {
   "cell_type": "code",
   "execution_count": 17,
   "id": "98e71fc8",
   "metadata": {
    "execution": {
     "iopub.execute_input": "2024-07-19T02:05:41.674835Z",
     "iopub.status.busy": "2024-07-19T02:05:41.674443Z",
     "iopub.status.idle": "2024-07-19T02:05:43.381918Z",
     "shell.execute_reply": "2024-07-19T02:05:43.381072Z"
    },
    "papermill": {
     "duration": 1.717393,
     "end_time": "2024-07-19T02:05:43.384620",
     "exception": false,
     "start_time": "2024-07-19T02:05:41.667227",
     "status": "completed"
    },
    "tags": []
   },
   "outputs": [],
   "source": [
    "submission.to_csv('submission.csv',index=False)"
   ]
  }
 ],
 "metadata": {
  "kaggle": {
   "accelerator": "none",
   "dataSources": [
    {
     "databundleVersionId": 44219,
     "sourceId": 8076,
     "sourceType": "competition"
    }
   ],
   "dockerImageVersionId": 30746,
   "isGpuEnabled": false,
   "isInternetEnabled": true,
   "language": "python",
   "sourceType": "notebook"
  },
  "kernelspec": {
   "display_name": "Python 3",
   "language": "python",
   "name": "python3"
  },
  "language_info": {
   "codemirror_mode": {
    "name": "ipython",
    "version": 3
   },
   "file_extension": ".py",
   "mimetype": "text/x-python",
   "name": "python",
   "nbconvert_exporter": "python",
   "pygments_lexer": "ipython3",
   "version": "3.10.13"
  },
  "papermill": {
   "default_parameters": {},
   "duration": 2005.723408,
   "end_time": "2024-07-19T02:05:46.016005",
   "environment_variables": {},
   "exception": null,
   "input_path": "__notebook__.ipynb",
   "output_path": "__notebook__.ipynb",
   "parameters": {},
   "start_time": "2024-07-19T01:32:20.292597",
   "version": "2.5.0"
  }
 },
 "nbformat": 4,
 "nbformat_minor": 5
}
